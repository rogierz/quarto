{
 "cells": [
  {
   "cell_type": "code",
   "execution_count": 1,
   "metadata": {
    "collapsed": true,
    "ExecuteTime": {
     "start_time": "2023-04-27T16:56:17.709625Z",
     "end_time": "2023-04-27T16:56:18.965161Z"
    }
   },
   "outputs": [
    {
     "name": "stdout",
     "output_type": "stream",
     "text": [
      "Requirement already satisfied: numpy in ./venv/lib/python3.10/site-packages (from -r requirements.txt (line 1)) (1.24.2)\r\n",
      "Requirement already satisfied: tqdm in ./venv/lib/python3.10/site-packages (from -r requirements.txt (line 2)) (4.65.0)\r\n",
      "Requirement already satisfied: matplotlib in ./venv/lib/python3.10/site-packages (from -r requirements.txt (line 3)) (3.7.1)\r\n",
      "Requirement already satisfied: cycler>=0.10 in ./venv/lib/python3.10/site-packages (from matplotlib->-r requirements.txt (line 3)) (0.11.0)\r\n",
      "Requirement already satisfied: kiwisolver>=1.0.1 in ./venv/lib/python3.10/site-packages (from matplotlib->-r requirements.txt (line 3)) (1.4.4)\r\n",
      "Requirement already satisfied: fonttools>=4.22.0 in ./venv/lib/python3.10/site-packages (from matplotlib->-r requirements.txt (line 3)) (4.39.3)\r\n",
      "Requirement already satisfied: pyparsing>=2.3.1 in ./venv/lib/python3.10/site-packages (from matplotlib->-r requirements.txt (line 3)) (3.0.9)\r\n",
      "Requirement already satisfied: pillow>=6.2.0 in ./venv/lib/python3.10/site-packages (from matplotlib->-r requirements.txt (line 3)) (9.5.0)\r\n",
      "Requirement already satisfied: python-dateutil>=2.7 in ./venv/lib/python3.10/site-packages (from matplotlib->-r requirements.txt (line 3)) (2.8.2)\r\n",
      "Requirement already satisfied: packaging>=20.0 in ./venv/lib/python3.10/site-packages (from matplotlib->-r requirements.txt (line 3)) (23.1)\r\n",
      "Requirement already satisfied: contourpy>=1.0.1 in ./venv/lib/python3.10/site-packages (from matplotlib->-r requirements.txt (line 3)) (1.0.7)\r\n",
      "Requirement already satisfied: six>=1.5 in ./venv/lib/python3.10/site-packages (from python-dateutil>=2.7->matplotlib->-r requirements.txt (line 3)) (1.16.0)\r\n",
      "\r\n",
      "\u001B[1m[\u001B[0m\u001B[34;49mnotice\u001B[0m\u001B[1;39;49m]\u001B[0m\u001B[39;49m A new release of pip is available: \u001B[0m\u001B[31;49m23.0.1\u001B[0m\u001B[39;49m -> \u001B[0m\u001B[32;49m23.1\u001B[0m\r\n",
      "\u001B[1m[\u001B[0m\u001B[34;49mnotice\u001B[0m\u001B[1;39;49m]\u001B[0m\u001B[39;49m To update, run: \u001B[0m\u001B[32;49mpip install --upgrade pip\u001B[0m\r\n"
     ]
    }
   ],
   "source": [
    "!pip install -r requirements.txt"
   ]
  },
  {
   "cell_type": "code",
   "execution_count": 2,
   "outputs": [
    {
     "name": "stdout",
     "output_type": "stream",
     "text": [
      " 34%|██████████████▌                            | 17/50 [00:04<00:11,  2.78it/s]^C\r\n",
      " 34%|██████████████▌                            | 17/50 [00:04<00:09,  3.61it/s]\r\n",
      "Traceback (most recent call last):\r\n",
      "  File \"/home/james/Documents/project_quarto/train_rl.py\", line 26, in <module>\r\n",
      "    winner = game.run()\r\n",
      "  File \"/home/james/Documents/project_quarto/quarto/quarto/objects.py\", line 194, in run\r\n",
      "    x, y = self.__players[self._current_player].place_piece()\r\n",
      "  File \"/home/james/Documents/project_quarto/players/rl.py\", line 58, in place_piece\r\n",
      "    state, reward = self.get_state_and_reward(action)\r\n",
      "  File \"/home/james/Documents/project_quarto/players/rl.py\", line 113, in get_state_and_reward\r\n",
      "    sim_quarto = self.get_game()\r\n",
      "  File \"/home/james/Documents/project_quarto/players/base.py\", line 21, in get_game\r\n",
      "    return deepcopy(game)\r\n",
      "  File \"/usr/lib/python3.10/copy.py\", line 172, in deepcopy\r\n",
      "    y = _reconstruct(x, memo, *rv)\r\n",
      "  File \"/usr/lib/python3.10/copy.py\", line 271, in _reconstruct\r\n",
      "    state = deepcopy(state, memo)\r\n",
      "  File \"/usr/lib/python3.10/copy.py\", line 146, in deepcopy\r\n",
      "    y = copier(x, memo)\r\n",
      "  File \"/usr/lib/python3.10/copy.py\", line 231, in _deepcopy_dict\r\n",
      "    y[deepcopy(key, memo)] = deepcopy(value, memo)\r\n",
      "  File \"/usr/lib/python3.10/copy.py\", line 146, in deepcopy\r\n",
      "    y = copier(x, memo)\r\n",
      "  File \"/usr/lib/python3.10/copy.py\", line 211, in _deepcopy_tuple\r\n",
      "    y = [deepcopy(a, memo) for a in x]\r\n",
      "  File \"/usr/lib/python3.10/copy.py\", line 211, in <listcomp>\r\n",
      "    y = [deepcopy(a, memo) for a in x]\r\n",
      "  File \"/usr/lib/python3.10/copy.py\", line 172, in deepcopy\r\n",
      "    y = _reconstruct(x, memo, *rv)\r\n",
      "  File \"/usr/lib/python3.10/copy.py\", line 271, in _reconstruct\r\n",
      "    state = deepcopy(state, memo)\r\n",
      "  File \"/usr/lib/python3.10/copy.py\", line 146, in deepcopy\r\n",
      "    y = copier(x, memo)\r\n",
      "  File \"/usr/lib/python3.10/copy.py\", line 231, in _deepcopy_dict\r\n",
      "    y[deepcopy(key, memo)] = deepcopy(value, memo)\r\n",
      "  File \"/usr/lib/python3.10/copy.py\", line 172, in deepcopy\r\n",
      "    y = _reconstruct(x, memo, *rv)\r\n",
      "  File \"/usr/lib/python3.10/copy.py\", line 296, in _reconstruct\r\n",
      "    key = deepcopy(key, memo)\r\n",
      "  File \"/usr/lib/python3.10/copy.py\", line 146, in deepcopy\r\n",
      "    y = copier(x, memo)\r\n",
      "  File \"/usr/lib/python3.10/copy.py\", line 211, in _deepcopy_tuple\r\n",
      "    y = [deepcopy(a, memo) for a in x]\r\n",
      "  File \"/usr/lib/python3.10/copy.py\", line 211, in <listcomp>\r\n",
      "    y = [deepcopy(a, memo) for a in x]\r\n",
      "  File \"/usr/lib/python3.10/copy.py\", line 146, in deepcopy\r\n",
      "    y = copier(x, memo)\r\n",
      "  File \"/usr/lib/python3.10/copy.py\", line 211, in _deepcopy_tuple\r\n",
      "    y = [deepcopy(a, memo) for a in x]\r\n",
      "  File \"/usr/lib/python3.10/copy.py\", line 211, in <listcomp>\r\n",
      "    y = [deepcopy(a, memo) for a in x]\r\n",
      "  File \"/usr/lib/python3.10/copy.py\", line 146, in deepcopy\r\n",
      "    y = copier(x, memo)\r\n",
      "  File \"/usr/lib/python3.10/copy.py\", line 182, in _deepcopy_atomic\r\n",
      "    def _deepcopy_atomic(x, memo):\r\n",
      "KeyboardInterrupt\r\n"
     ]
    }
   ],
   "source": [
    "!python3 train_rl.py -o random"
   ],
   "metadata": {
    "collapsed": false,
    "ExecuteTime": {
     "start_time": "2023-04-27T16:56:22.295009Z",
     "end_time": "2023-04-27T16:56:27.787327Z"
    }
   }
  },
  {
   "cell_type": "code",
   "execution_count": null,
   "outputs": [],
   "source": [],
   "metadata": {
    "collapsed": false
   }
  }
 ],
 "metadata": {
  "kernelspec": {
   "display_name": "Python 3",
   "language": "python",
   "name": "python3"
  },
  "language_info": {
   "codemirror_mode": {
    "name": "ipython",
    "version": 2
   },
   "file_extension": ".py",
   "mimetype": "text/x-python",
   "name": "python",
   "nbconvert_exporter": "python",
   "pygments_lexer": "ipython2",
   "version": "2.7.6"
  }
 },
 "nbformat": 4,
 "nbformat_minor": 0
}
